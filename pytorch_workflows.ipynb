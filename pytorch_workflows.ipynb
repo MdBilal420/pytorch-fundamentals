{
  "nbformat": 4,
  "nbformat_minor": 0,
  "metadata": {
    "colab": {
      "provenance": [],
      "authorship_tag": "ABX9TyM+J3KshmO2+vjYH131GDbL",
      "include_colab_link": true
    },
    "kernelspec": {
      "name": "python3",
      "display_name": "Python 3"
    },
    "language_info": {
      "name": "python"
    }
  },
  "cells": [
    {
      "cell_type": "markdown",
      "metadata": {
        "id": "view-in-github",
        "colab_type": "text"
      },
      "source": [
        "<a href=\"https://colab.research.google.com/github/MdBilal420/pytorch-fundamentals/blob/main/pytorch_workflows.ipynb\" target=\"_parent\"><img src=\"https://colab.research.google.com/assets/colab-badge.svg\" alt=\"Open In Colab\"/></a>"
      ]
    },
    {
      "cell_type": "code",
      "execution_count": 117,
      "metadata": {
        "id": "rLwySAJAf2OC"
      },
      "outputs": [],
      "source": [
        "import torch\n",
        "import matplotlib.pyplot as plt\n",
        "from torch import nn\n",
        "import numpy as np"
      ]
    },
    {
      "cell_type": "code",
      "source": [
        "weight = 0.6\n",
        "bias = 0.4\n",
        "\n",
        "X = torch.arange(0,1,0.02).unsqueeze(dim=1)\n",
        "Y = weight*X + bias\n",
        "\n",
        "X[:10],Y[:10]"
      ],
      "metadata": {
        "colab": {
          "base_uri": "https://localhost:8080/"
        },
        "id": "E2y_5NDxgAnq",
        "outputId": "76bece9b-7400-40ef-e3f1-9aaab6b03a0a"
      },
      "execution_count": 118,
      "outputs": [
        {
          "output_type": "execute_result",
          "data": {
            "text/plain": [
              "(tensor([[0.0000],\n",
              "         [0.0200],\n",
              "         [0.0400],\n",
              "         [0.0600],\n",
              "         [0.0800],\n",
              "         [0.1000],\n",
              "         [0.1200],\n",
              "         [0.1400],\n",
              "         [0.1600],\n",
              "         [0.1800]]),\n",
              " tensor([[0.4000],\n",
              "         [0.4120],\n",
              "         [0.4240],\n",
              "         [0.4360],\n",
              "         [0.4480],\n",
              "         [0.4600],\n",
              "         [0.4720],\n",
              "         [0.4840],\n",
              "         [0.4960],\n",
              "         [0.5080]]))"
            ]
          },
          "metadata": {},
          "execution_count": 118
        }
      ]
    },
    {
      "cell_type": "code",
      "source": [
        "train_split = int(0.80*len(X))\n",
        "train_split"
      ],
      "metadata": {
        "colab": {
          "base_uri": "https://localhost:8080/"
        },
        "id": "Q0RG8jSngSPt",
        "outputId": "faecf896-b36d-41ec-86fe-77f030d2493d"
      },
      "execution_count": 119,
      "outputs": [
        {
          "output_type": "execute_result",
          "data": {
            "text/plain": [
              "40"
            ]
          },
          "metadata": {},
          "execution_count": 119
        }
      ]
    },
    {
      "cell_type": "code",
      "source": [
        "train_X = X[:train_split]\n",
        "train_Y = Y[:train_split]\n",
        "test_X = X[train_split:]\n",
        "test_Y = Y[train_split:]\n"
      ],
      "metadata": {
        "id": "gNlodElvleax"
      },
      "execution_count": 120,
      "outputs": []
    },
    {
      "cell_type": "code",
      "source": [
        "def plot_predictions(train_data=train_X,train_labels=train_Y,test_data=test_X,test_labels=test_Y,predictions=None):\n",
        "  plt.figure(figsize=(10,8))\n",
        "  plt.scatter(train_data,train_labels,c=\"b\",s=4,label=\"Traininng Data\")\n",
        "  plt.scatter(test_data,test_labels,c=\"g\",s=4,label=\"Testing Data\")\n",
        "\n",
        "  if predictions is not None:\n",
        "    plt.scatter(test_data,predictions,c=\"r\",s=4,label=\"Predictions\")\n",
        "  plt.legend(prop={\"size\":14})\n",
        "\n",
        "\n"
      ],
      "metadata": {
        "id": "UF0jDfTUlsTN"
      },
      "execution_count": 121,
      "outputs": []
    },
    {
      "cell_type": "code",
      "source": [
        "plot_predictions()"
      ],
      "metadata": {
        "colab": {
          "base_uri": "https://localhost:8080/",
          "height": 518
        },
        "id": "zdsHtaZIr3jX",
        "outputId": "32fb9fd9-210c-4909-fd85-316618368458"
      },
      "execution_count": 122,
      "outputs": [
        {
          "output_type": "display_data",
          "data": {
            "text/plain": [
              "<Figure size 1000x800 with 1 Axes>"
            ],
            "image/png": "[encoded data removed]"
          },
          "metadata": {}
        }
      ]
    },
    {
      "cell_type": "code",
      "source": [
        "class LinearRegressionModel(nn.Module):\n",
        "  def __init__(self):\n",
        "    super().__init__()\n",
        "    self.weights = nn.Parameter(torch.randn(1,dtype=torch.float),requires_grad=True)\n",
        "    self.bias = nn.Parameter(torch.randn(1,dtype=torch.float),requires_grad=True)\n",
        "\n",
        "  def forward(self,x:torch.Tensor) -> torch.Tensor:\n",
        "    return self.weights*x + self.bias\n",
        "\n"
      ],
      "metadata": {
        "id": "GsmmwBgXuRv5"
      },
      "execution_count": 123,
      "outputs": []
    },
    {
      "cell_type": "code",
      "source": [
        "weight,bias"
      ],
      "metadata": {
        "colab": {
          "base_uri": "https://localhost:8080/"
        },
        "id": "RRwaQToBgpNF",
        "outputId": "503ace0e-b01f-40af-ab9d-ca64e86daf68"
      },
      "execution_count": 124,
      "outputs": [
        {
          "output_type": "execute_result",
          "data": {
            "text/plain": [
              "(0.6, 0.4)"
            ]
          },
          "metadata": {},
          "execution_count": 124
        }
      ]
    },
    {
      "cell_type": "code",
      "source": [
        "# MODEL INSTANCE CREATION\n",
        "torch.manual_seed(42)\n",
        "\n",
        "model_0 = LinearRegressionModel()\n",
        "\n",
        "list(model_0.parameters())"
      ],
      "metadata": {
        "colab": {
          "base_uri": "https://localhost:8080/"
        },
        "id": "Apqh5h5Q0gpL",
        "outputId": "a0c39b24-bafe-4082-c49d-282b0cee91f9"
      },
      "execution_count": 125,
      "outputs": [
        {
          "output_type": "execute_result",
          "data": {
            "text/plain": [
              "[Parameter containing:\n",
              " tensor([0.3367], requires_grad=True),\n",
              " Parameter containing:\n",
              " tensor([0.1288], requires_grad=True)]"
            ]
          },
          "metadata": {},
          "execution_count": 125
        }
      ]
    },
    {
      "cell_type": "code",
      "source": [
        "model_0.state_dict()"
      ],
      "metadata": {
        "colab": {
          "base_uri": "https://localhost:8080/"
        },
        "id": "T41nYU_1gpKQ",
        "outputId": "9ea91792-5098-4f9d-a104-89a351aa7bd9"
      },
      "execution_count": 126,
      "outputs": [
        {
          "output_type": "execute_result",
          "data": {
            "text/plain": [
              "OrderedDict([('weights', tensor([0.3367])), ('bias', tensor([0.1288]))])"
            ]
          },
          "metadata": {},
          "execution_count": 126
        }
      ]
    },
    {
      "cell_type": "code",
      "source": [
        "with torch.inference_mode():\n",
        "  y_preds = model_0(test_X)\n",
        "\n",
        "y_preds"
      ],
      "metadata": {
        "colab": {
          "base_uri": "https://localhost:8080/"
        },
        "id": "Hc-dyO6BhR-r",
        "outputId": "668342de-49e0-4cb8-eeed-16a716b4a29e"
      },
      "execution_count": 127,
      "outputs": [
        {
          "output_type": "execute_result",
          "data": {
            "text/plain": [
              "tensor([[0.3982],\n",
              "        [0.4049],\n",
              "        [0.4116],\n",
              "        [0.4184],\n",
              "        [0.4251],\n",
              "        [0.4318],\n",
              "        [0.4386],\n",
              "        [0.4453],\n",
              "        [0.4520],\n",
              "        [0.4588]])"
            ]
          },
          "metadata": {},
          "execution_count": 127
        }
      ]
    },
    {
      "cell_type": "code",
      "source": [
        "test_Y"
      ],
      "metadata": {
        "colab": {
          "base_uri": "https://localhost:8080/"
        },
        "id": "OziRxTWti426",
        "outputId": "cb8f14a5-ff6e-4fcd-ed59-467a8f8f4991"
      },
      "execution_count": 128,
      "outputs": [
        {
          "output_type": "execute_result",
          "data": {
            "text/plain": [
              "tensor([[0.8800],\n",
              "        [0.8920],\n",
              "        [0.9040],\n",
              "        [0.9160],\n",
              "        [0.9280],\n",
              "        [0.9400],\n",
              "        [0.9520],\n",
              "        [0.9640],\n",
              "        [0.9760],\n",
              "        [0.9880]])"
            ]
          },
          "metadata": {},
          "execution_count": 128
        }
      ]
    },
    {
      "cell_type": "code",
      "source": [
        "plot_predictions(predictions=y_preds)"
      ],
      "metadata": {
        "id": "YerBcBaujIqX",
        "outputId": "be0b0829-2d44-4c40-8fb4-8e0739a0247a",
        "colab": {
          "base_uri": "https://localhost:8080/",
          "height": 518
        }
      },
      "execution_count": 129,
      "outputs": [
        {
          "output_type": "display_data",
          "data": {
            "text/plain": [
              "<Figure size 1000x800 with 1 Axes>"
            ],
            "image/png": "[encoded data removed]"
          },
          "metadata": {}
        }
      ]
    },
    {
      "cell_type": "code",
      "source": [
        "model_0.state_dict()"
      ],
      "metadata": {
        "colab": {
          "base_uri": "https://localhost:8080/"
        },
        "id": "vWoEbhqlO9IB",
        "outputId": "da73a55f-f758-45df-a0a4-fd3ac72ecfcd"
      },
      "execution_count": 130,
      "outputs": [
        {
          "output_type": "execute_result",
          "data": {
            "text/plain": [
              "OrderedDict([('weights', tensor([0.3367])), ('bias', tensor([0.1288]))])"
            ]
          },
          "metadata": {},
          "execution_count": 130
        }
      ]
    },
    {
      "cell_type": "code",
      "source": [
        "loss_fn= nn.L1Loss()\n",
        "optimizer = torch.optim.SGD(params=model_0.parameters(),lr=0.01)"
      ],
      "metadata": {
        "id": "onCpf2x0PI0s"
      },
      "execution_count": 131,
      "outputs": []
    },
    {
      "cell_type": "code",
      "source": [
        "\n",
        "torch.manual_seed(42)\n",
        "\n",
        "epochs = 200\n",
        "\n",
        "epoch_count = []\n",
        "loss_values = []\n",
        "test_loss_values = []\n",
        "\n",
        "\n",
        "for epoch in range(epochs):\n",
        "  #0 TRAINING\n",
        "  model_0.train()\n",
        "\n",
        "  # 1. Forward pass\n",
        "  y_pred = model_0(train_X)\n",
        "\n",
        "  # 2. Calculate the loss\n",
        "  loss = loss_fn(y_pred, train_Y)\n",
        "\n",
        "  # 3. Optimizer zero grad\n",
        "  optimizer.zero_grad()\n",
        "\n",
        "  # 4. perform backpropagation\n",
        "  loss.backward()\n",
        "\n",
        "  # 5. step the optimizer (perform gradient descent)\n",
        "  optimizer.step()\n",
        "\n",
        "  # TESTING\n",
        "  model_0.eval()\n",
        "  with torch.inference_mode():\n",
        "    # 1. Forward pass\n",
        "    test_pred = model_0(test_X)\n",
        "\n",
        "    # 2. Calculate the loss\n",
        "    test_loss = loss_fn(test_pred, test_Y)\n",
        "\n",
        "  if epoch % 10 == 0:\n",
        "    epoch_count.append(epoch)\n",
        "    loss_values.append(loss)\n",
        "    test_loss_values.append(test_loss)\n",
        "    print(f\"Epoch: {epoch} | Train loss: {loss} | Test loss: {test_loss}\")\n",
        "    print(model_0.state_dict())\n",
        "\n"
      ],
      "metadata": {
        "id": "vsJGdz9uPZvg",
        "colab": {
          "base_uri": "https://localhost:8080/"
        },
        "outputId": "210a380d-7652-4658-a6f5-1fb3d974e63a"
      },
      "execution_count": 132,
      "outputs": [
        {
          "output_type": "stream",
          "name": "stdout",
          "text": [
            "Epoch: 0 | Train loss: 0.37388134002685547 | Test loss: 0.4920651316642761\n",
            "OrderedDict([('weights', tensor([0.3406])), ('bias', tensor([0.1388]))])\n",
            "Epoch: 10 | Train loss: 0.2586713433265686 | Test loss: 0.3573552668094635\n",
            "OrderedDict([('weights', tensor([0.3796])), ('bias', tensor([0.2388]))])\n",
            "Epoch: 20 | Train loss: 0.1434614360332489 | Test loss: 0.2226453274488449\n",
            "OrderedDict([('weights', tensor([0.4186])), ('bias', tensor([0.3388]))])\n",
            "Epoch: 30 | Train loss: 0.03848728537559509 | Test loss: 0.09741605818271637\n",
            "OrderedDict([('weights', tensor([0.4571])), ('bias', tensor([0.4298]))])\n",
            "Epoch: 40 | Train loss: 0.023863982409238815 | Test loss: 0.05760536342859268\n",
            "OrderedDict([('weights', tensor([0.4827])), ('bias', tensor([0.4468]))])\n",
            "Epoch: 50 | Train loss: 0.02031884901225567 | Test loss: 0.04659420996904373\n",
            "OrderedDict([('weights', tensor([0.5007])), ('bias', tensor([0.4418]))])\n",
            "Epoch: 60 | Train loss: 0.01688215509057045 | Test loss: 0.039008546620607376\n",
            "OrderedDict([('weights', tensor([0.5176])), ('bias', tensor([0.4343]))])\n",
            "Epoch: 70 | Train loss: 0.013453716412186623 | Test loss: 0.030736004933714867\n",
            "OrderedDict([('weights', tensor([0.5348])), ('bias', tensor([0.4273]))])\n",
            "Epoch: 80 | Train loss: 0.010015235282480717 | Test loss: 0.02246345952153206\n",
            "OrderedDict([('weights', tensor([0.5519])), ('bias', tensor([0.4203]))])\n",
            "Epoch: 90 | Train loss: 0.0065802233293652534 | Test loss: 0.01487780176103115\n",
            "OrderedDict([('weights', tensor([0.5689])), ('bias', tensor([0.4128]))])\n",
            "Epoch: 100 | Train loss: 0.003150416072458029 | Test loss: 0.006605249829590321\n",
            "OrderedDict([('weights', tensor([0.5861])), ('bias', tensor([0.4058]))])\n",
            "Epoch: 110 | Train loss: 0.008361521176993847 | Test loss: 0.005684256553649902\n",
            "OrderedDict([('weights', tensor([0.5950])), ('bias', tensor([0.3988]))])\n",
            "Epoch: 120 | Train loss: 0.008361521176993847 | Test loss: 0.005684256553649902\n",
            "OrderedDict([('weights', tensor([0.5950])), ('bias', tensor([0.3988]))])\n",
            "Epoch: 130 | Train loss: 0.008361521176993847 | Test loss: 0.005684256553649902\n",
            "OrderedDict([('weights', tensor([0.5950])), ('bias', tensor([0.3988]))])\n",
            "Epoch: 140 | Train loss: 0.008361521176993847 | Test loss: 0.005684256553649902\n",
            "OrderedDict([('weights', tensor([0.5950])), ('bias', tensor([0.3988]))])\n",
            "Epoch: 150 | Train loss: 0.008361521176993847 | Test loss: 0.005684256553649902\n",
            "OrderedDict([('weights', tensor([0.5950])), ('bias', tensor([0.3988]))])\n",
            "Epoch: 160 | Train loss: 0.008361521176993847 | Test loss: 0.005684256553649902\n",
            "OrderedDict([('weights', tensor([0.5950])), ('bias', tensor([0.3988]))])\n",
            "Epoch: 170 | Train loss: 0.008361521176993847 | Test loss: 0.005684256553649902\n",
            "OrderedDict([('weights', tensor([0.5950])), ('bias', tensor([0.3988]))])\n",
            "Epoch: 180 | Train loss: 0.008361521176993847 | Test loss: 0.005684256553649902\n",
            "OrderedDict([('weights', tensor([0.5950])), ('bias', tensor([0.3988]))])\n",
            "Epoch: 190 | Train loss: 0.008361521176993847 | Test loss: 0.005684256553649902\n",
            "OrderedDict([('weights', tensor([0.5950])), ('bias', tensor([0.3988]))])\n"
          ]
        }
      ]
    },
    {
      "cell_type": "code",
      "source": [
        "model_0.state_dict()"
      ],
      "metadata": {
        "colab": {
          "base_uri": "https://localhost:8080/"
        },
        "id": "BofEMXsiztAh",
        "outputId": "954cdd4a-3e3f-45d5-db3f-e1cd4b005520"
      },
      "execution_count": 133,
      "outputs": [
        {
          "output_type": "execute_result",
          "data": {
            "text/plain": [
              "OrderedDict([('weights', tensor([0.5989])), ('bias', tensor([0.4088]))])"
            ]
          },
          "metadata": {},
          "execution_count": 133
        }
      ]
    },
    {
      "cell_type": "code",
      "source": [
        "plt.plot(epoch_count, np.array(torch.tensor(loss_values).numpy()), label=\"Train loss\")\n",
        "plt.plot(epoch_count,  np.array(torch.tensor(test_loss_values).numpy()), label=\"Test loss\")\n",
        "plt.title(\"Training and test loss curves\")\n",
        "plt.ylabel(\"Loss\")\n",
        "plt.xlabel(\"Epochs\")\n",
        "plt.legend();"
      ],
      "metadata": {
        "id": "InK9jqlenrQY",
        "outputId": "a3d3405e-2f60-4e98-e826-b0a782b2e48c",
        "colab": {
          "base_uri": "https://localhost:8080/",
          "height": 472
        }
      },
      "execution_count": 134,
      "outputs": [
        {
          "output_type": "display_data",
          "data": {
            "text/plain": [
              "<Figure size 640x480 with 1 Axes>"
            ],
            "image/png": "[encoded data removed]"
          },
          "metadata": {}
        }
      ]
    },
    {
      "cell_type": "code",
      "source": [
        "with torch.inference_mode():\n",
        "  y_preds_new = model_0(test_X)"
      ],
      "metadata": {
        "id": "V_VzxsKR2vQO"
      },
      "execution_count": 135,
      "outputs": []
    },
    {
      "cell_type": "code",
      "source": [
        "model_0.state_dict()"
      ],
      "metadata": {
        "colab": {
          "base_uri": "https://localhost:8080/"
        },
        "id": "C1iNbMXtd41H",
        "outputId": "f613c39c-e58f-42d7-9215-fecbb15cf8e1"
      },
      "execution_count": 136,
      "outputs": [
        {
          "output_type": "execute_result",
          "data": {
            "text/plain": [
              "OrderedDict([('weights', tensor([0.5989])), ('bias', tensor([0.4088]))])"
            ]
          },
          "metadata": {},
          "execution_count": 136
        }
      ]
    },
    {
      "cell_type": "code",
      "source": [
        "plot_predictions(predictions=y_preds_new)"
      ],
      "metadata": {
        "colab": {
          "base_uri": "https://localhost:8080/",
          "height": 518
        },
        "id": "I7hW1XFZd9-o",
        "outputId": "a213662c-b235-4012-df15-09a6ca0f515c"
      },
      "execution_count": 137,
      "outputs": [
        {
          "output_type": "display_data",
          "data": {
            "text/plain": [
              "<Figure size 1000x800 with 1 Axes>"
            ],
            "image/png": "[encoded data removed]"
          },
          "metadata": {}
        }
      ]
    },
    {
      "cell_type": "code",
      "source": [
        "#SAVE\n",
        "\n",
        "from pathlib import Path\n",
        "\n",
        "MODEL_PATH = Path(\"models\")\n",
        "MODEL_PATH.mkdir(parents=True,exist_ok=True)\n",
        "\n",
        "MODEL_NAME = \"01_pytorch_workflow_model_0.pth\"\n",
        "MODEL_SAVE_PATH = MODEL_PATH / MODEL_NAME\n",
        "\n",
        "torch.save(obj=model_0.state_dict(),f=MODEL_SAVE_PATH)\n"
      ],
      "metadata": {
        "id": "c3w80weNeDjS"
      },
      "execution_count": 140,
      "outputs": []
    },
    {
      "cell_type": "code",
      "source": [
        "#Load"
      ],
      "metadata": {
        "id": "svUTcXdjrLxf"
      },
      "execution_count": 141,
      "outputs": []
    },
    {
      "cell_type": "code",
      "source": [
        "model_0.state_dict()"
      ],
      "metadata": {
        "id": "SQj5mS2XtdEt",
        "outputId": "51c9d459-e6bf-4118-afdb-0c41afc73482",
        "colab": {
          "base_uri": "https://localhost:8080/"
        }
      },
      "execution_count": 142,
      "outputs": [
        {
          "output_type": "execute_result",
          "data": {
            "text/plain": [
              "OrderedDict([('weights', tensor([0.5989])), ('bias', tensor([0.4088]))])"
            ]
          },
          "metadata": {},
          "execution_count": 142
        }
      ]
    },
    {
      "cell_type": "code",
      "source": [
        "loaded_model_0 = LinearRegressionModel()\n",
        "\n",
        "loaded_model_0.load_state_dict(torch.load(f=MODEL_SAVE_PATH))"
      ],
      "metadata": {
        "id": "s_vVMDistgql",
        "outputId": "fd0c58d9-b92e-43b5-a117-92fa4429db6f",
        "colab": {
          "base_uri": "https://localhost:8080/"
        }
      },
      "execution_count": 144,
      "outputs": [
        {
          "output_type": "stream",
          "name": "stderr",
          "text": [
            "<ipython-input-144-b11c3559e97b>:3: FutureWarning: You are using `torch.load` with `weights_only=False` (the current default value), which uses the default pickle module implicitly. It is possible to construct malicious pickle data which will execute arbitrary code during unpickling (See https://github.com/pytorch/pytorch/blob/main/SECURITY.md#untrusted-models for more details). In a future release, the default value for `weights_only` will be flipped to `True`. This limits the functions that could be executed during unpickling. Arbitrary objects will no longer be allowed to be loaded via this mode unless they are explicitly allowlisted by the user via `torch.serialization.add_safe_globals`. We recommend you start setting `weights_only=True` for any use case where you don't have full control of the loaded file. Please open an issue on GitHub for any issues related to this experimental feature.\n",
            "  loaded_model_0.load_state_dict(torch.load(f=MODEL_SAVE_PATH))\n"
          ]
        },
        {
          "output_type": "execute_result",
          "data": {
            "text/plain": [
              "<All keys matched successfully>"
            ]
          },
          "metadata": {},
          "execution_count": 144
        }
      ]
    },
    {
      "cell_type": "code",
      "source": [
        "loaded_model_0.state_dict()"
      ],
      "metadata": {
        "id": "4caqCsGqtsk5",
        "outputId": "e7c3b81b-5a4a-4962-fe27-42a0f9eae01f",
        "colab": {
          "base_uri": "https://localhost:8080/"
        }
      },
      "execution_count": 145,
      "outputs": [
        {
          "output_type": "execute_result",
          "data": {
            "text/plain": [
              "OrderedDict([('weights', tensor([0.5989])), ('bias', tensor([0.4088]))])"
            ]
          },
          "metadata": {},
          "execution_count": 145
        }
      ]
    },
    {
      "cell_type": "code",
      "source": [
        "loaded_model_0.eval()\n",
        "with torch.inference_mode():\n",
        "  loaded_model_preds = loaded_model_0(test_X)\n",
        "\n",
        "loaded_model_preds"
      ],
      "metadata": {
        "id": "k_W2LCUMuQRs",
        "outputId": "ebf14a52-7886-485b-930b-f973c534dd0d",
        "colab": {
          "base_uri": "https://localhost:8080/"
        }
      },
      "execution_count": 146,
      "outputs": [
        {
          "output_type": "execute_result",
          "data": {
            "text/plain": [
              "tensor([[0.8879],\n",
              "        [0.8999],\n",
              "        [0.9118],\n",
              "        [0.9238],\n",
              "        [0.9358],\n",
              "        [0.9478],\n",
              "        [0.9598],\n",
              "        [0.9717],\n",
              "        [0.9837],\n",
              "        [0.9957]])"
            ]
          },
          "metadata": {},
          "execution_count": 146
        }
      ]
    },
    {
      "cell_type": "code",
      "source": [
        "y_preds_new == loaded_model_preds"
      ],
      "metadata": {
        "id": "sfhExnCOuvBt",
        "outputId": "7a70b53c-fe70-4cf2-828f-84210934486f",
        "colab": {
          "base_uri": "https://localhost:8080/"
        }
      },
      "execution_count": 148,
      "outputs": [
        {
          "output_type": "execute_result",
          "data": {
            "text/plain": [
              "tensor([[True],\n",
              "        [True],\n",
              "        [True],\n",
              "        [True],\n",
              "        [True],\n",
              "        [True],\n",
              "        [True],\n",
              "        [True],\n",
              "        [True],\n",
              "        [True]])"
            ]
          },
          "metadata": {},
          "execution_count": 148
        }
      ]
    },
    {
      "cell_type": "code",
      "source": [],
      "metadata": {
        "id": "hvicezDXu0N8"
      },
      "execution_count": null,
      "outputs": []
    }
  ]
}