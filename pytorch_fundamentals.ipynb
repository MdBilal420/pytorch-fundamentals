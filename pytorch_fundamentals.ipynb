{
  "nbformat": 4,
  "nbformat_minor": 0,
  "metadata": {
    "colab": {
      "provenance": [],
      "authorship_tag": "ABX9TyPXMHYluoMWiULLSfdoG2iv",
      "include_colab_link": true
    },
    "kernelspec": {
      "name": "python3",
      "display_name": "Python 3"
    },
    "language_info": {
      "name": "python"
    }
  },
  "cells": [
    {
      "cell_type": "markdown",
      "metadata": {
        "id": "view-in-github",
        "colab_type": "text"
      },
      "source": [
        "<a href=\"https://colab.research.google.com/github/MdBilal420/pytorch-fundamentals/blob/main/pytorch_fundamentals.ipynb\" target=\"_parent\"><img src=\"https://colab.research.google.com/assets/colab-badge.svg\" alt=\"Open In Colab\"/></a>"
      ]
    },
    {
      "cell_type": "code",
      "execution_count": 2,
      "metadata": {
        "id": "YWZZR8HF_ek1"
      },
      "outputs": [],
      "source": [
        "import torch"
      ]
    },
    {
      "cell_type": "code",
      "source": [
        "a = torch.tensor([[1,2,3],[6,8,9]])\n",
        "b = torch.tensor([4,5,6])\n",
        "print(a+b)"
      ],
      "metadata": {
        "colab": {
          "base_uri": "https://localhost:8080/"
        },
        "id": "7GlOt9-3_xqP",
        "outputId": "8e95cb9a-58a0-4082-afbb-5dbdba7d8a84"
      },
      "execution_count": null,
      "outputs": [
        {
          "output_type": "stream",
          "name": "stdout",
          "text": [
            "tensor([[ 5,  7,  9],\n",
            "        [10, 13, 15]])\n"
          ]
        }
      ]
    },
    {
      "cell_type": "code",
      "source": [
        "print(a*b)"
      ],
      "metadata": {
        "colab": {
          "base_uri": "https://localhost:8080/"
        },
        "id": "MDh3Pd-NALDf",
        "outputId": "1597e72f-cdcf-43f1-8a97-4fefae221638"
      },
      "execution_count": null,
      "outputs": [
        {
          "output_type": "stream",
          "name": "stdout",
          "text": [
            "tensor([[ 4, 10, 18],\n",
            "        [24, 40, 54]])\n"
          ]
        }
      ]
    },
    {
      "cell_type": "code",
      "source": [
        "matmul1 = torch.matmul(a,b)\n",
        "matmul2 = torch.matmul(b,a.T)\n",
        "print(matmul1)\n",
        "print(matmul2)"
      ],
      "metadata": {
        "colab": {
          "base_uri": "https://localhost:8080/"
        },
        "id": "eb8Jdjk7AQEl",
        "outputId": "ec1d681c-a3b2-4a31-c986-d29e6501dd69"
      },
      "execution_count": null,
      "outputs": [
        {
          "output_type": "stream",
          "name": "stdout",
          "text": [
            "tensor([ 32, 118])\n",
            "tensor([ 32, 118])\n"
          ]
        }
      ]
    },
    {
      "cell_type": "code",
      "source": [
        "a.min()"
      ],
      "metadata": {
        "id": "-na6Qg-tAkYZ",
        "colab": {
          "base_uri": "https://localhost:8080/"
        },
        "outputId": "f3722ea0-9499-47bb-d646-f34737e902bb"
      },
      "execution_count": null,
      "outputs": [
        {
          "output_type": "execute_result",
          "data": {
            "text/plain": [
              "tensor(1)"
            ]
          },
          "metadata": {},
          "execution_count": 11
        }
      ]
    },
    {
      "cell_type": "code",
      "source": [
        "a.max()"
      ],
      "metadata": {
        "colab": {
          "base_uri": "https://localhost:8080/"
        },
        "id": "VHxuLvK0KMX-",
        "outputId": "c4dff0f6-3aa4-4542-9105-4a50a7dde87b"
      },
      "execution_count": null,
      "outputs": [
        {
          "output_type": "execute_result",
          "data": {
            "text/plain": [
              "tensor(9)"
            ]
          },
          "metadata": {},
          "execution_count": 12
        }
      ]
    },
    {
      "cell_type": "code",
      "source": [
        "a.type(torch.float32).mean()"
      ],
      "metadata": {
        "colab": {
          "base_uri": "https://localhost:8080/"
        },
        "id": "dIoEQYpBKOoI",
        "outputId": "29ed2ced-6d8b-4eb0-9f03-558b1b9c9276"
      },
      "execution_count": null,
      "outputs": [
        {
          "output_type": "execute_result",
          "data": {
            "text/plain": [
              "tensor(4.8333)"
            ]
          },
          "metadata": {},
          "execution_count": 14
        }
      ]
    },
    {
      "cell_type": "code",
      "source": [
        "b.argmax()"
      ],
      "metadata": {
        "colab": {
          "base_uri": "https://localhost:8080/"
        },
        "id": "WjWHjjWvKRCO",
        "outputId": "08234b25-a613-4eae-8d20-44d504391bb6"
      },
      "execution_count": null,
      "outputs": [
        {
          "output_type": "execute_result",
          "data": {
            "text/plain": [
              "tensor(2)"
            ]
          },
          "metadata": {},
          "execution_count": 18
        }
      ]
    },
    {
      "cell_type": "code",
      "source": [
        "a.argmin()"
      ],
      "metadata": {
        "colab": {
          "base_uri": "https://localhost:8080/"
        },
        "id": "2wv2glnrLaw4",
        "outputId": "42582b64-435d-4a45-ecea-5e7bb2e1fa12"
      },
      "execution_count": null,
      "outputs": [
        {
          "output_type": "execute_result",
          "data": {
            "text/plain": [
              "tensor(0)"
            ]
          },
          "metadata": {},
          "execution_count": 19
        }
      ]
    },
    {
      "cell_type": "code",
      "source": [
        "b[0], b[2]"
      ],
      "metadata": {
        "colab": {
          "base_uri": "https://localhost:8080/"
        },
        "id": "4NX1HqrkLfNC",
        "outputId": "08fe8ca5-a3b0-4e7f-9044-1b8aa372fca2"
      },
      "execution_count": null,
      "outputs": [
        {
          "output_type": "execute_result",
          "data": {
            "text/plain": [
              "(tensor(4), tensor(6))"
            ]
          },
          "metadata": {},
          "execution_count": 20
        }
      ]
    },
    {
      "cell_type": "code",
      "source": [
        "a = torch.arange(1,10)\n",
        "a"
      ],
      "metadata": {
        "id": "gSZ0Yn8iLu58",
        "colab": {
          "base_uri": "https://localhost:8080/"
        },
        "outputId": "7b797471-7224-4465-e1ad-c30338a04c74"
      },
      "execution_count": 4,
      "outputs": [
        {
          "output_type": "execute_result",
          "data": {
            "text/plain": [
              "tensor([1, 2, 3, 4, 5, 6, 7, 8, 9])"
            ]
          },
          "metadata": {},
          "execution_count": 4
        }
      ]
    },
    {
      "cell_type": "code",
      "source": [
        "z = a[:5]\n",
        "z"
      ],
      "metadata": {
        "colab": {
          "base_uri": "https://localhost:8080/"
        },
        "id": "5FwsUEjrRc6-",
        "outputId": "cbcda8dc-1e81-4a72-ba83-8301a8404029"
      },
      "execution_count": 5,
      "outputs": [
        {
          "output_type": "execute_result",
          "data": {
            "text/plain": [
              "tensor([1, 2, 3, 4, 5])"
            ]
          },
          "metadata": {},
          "execution_count": 5
        }
      ]
    },
    {
      "cell_type": "code",
      "source": [
        "z=a"
      ],
      "metadata": {
        "id": "VbYLizQBRw5V"
      },
      "execution_count": 6,
      "outputs": []
    },
    {
      "cell_type": "code",
      "source": [
        "z[:5] = 9\n",
        "z,a"
      ],
      "metadata": {
        "colab": {
          "base_uri": "https://localhost:8080/"
        },
        "id": "j0gXCy3sR3q7",
        "outputId": "f9fd6581-fc33-496b-d5dd-bd14fa54fb30"
      },
      "execution_count": 7,
      "outputs": [
        {
          "output_type": "execute_result",
          "data": {
            "text/plain": [
              "(tensor([9, 9, 9, 9, 9, 6, 7, 8, 9]), tensor([9, 9, 9, 9, 9, 6, 7, 8, 9]))"
            ]
          },
          "metadata": {},
          "execution_count": 7
        }
      ]
    },
    {
      "cell_type": "code",
      "source": [
        "x = torch.rand( 2,1,2,3)\n",
        "x,x.dim(),x.shape"
      ],
      "metadata": {
        "colab": {
          "base_uri": "https://localhost:8080/"
        },
        "id": "2Q4-REgsR8aq",
        "outputId": "34589417-0372-4be5-84bd-a79d4ae1b267"
      },
      "execution_count": 44,
      "outputs": [
        {
          "output_type": "execute_result",
          "data": {
            "text/plain": [
              "(tensor([[[[0.6732, 0.3548, 0.0442],\n",
              "           [0.2838, 0.9354, 0.2045]]],\n",
              " \n",
              " \n",
              "         [[[0.7116, 0.9019, 0.7633],\n",
              "           [0.1762, 0.2986, 0.8847]]]]),\n",
              " 4,\n",
              " torch.Size([2, 1, 2, 3]))"
            ]
          },
          "metadata": {},
          "execution_count": 44
        }
      ]
    },
    {
      "cell_type": "code",
      "source": [
        "x_squeeze = x.squeeze()\n",
        "x_squeeze, x_squeeze.shape"
      ],
      "metadata": {
        "colab": {
          "base_uri": "https://localhost:8080/"
        },
        "id": "PtdSVhPVUP1r",
        "outputId": "eaa6884f-ae79-4d84-cb54-7c73280d4d5c"
      },
      "execution_count": 43,
      "outputs": [
        {
          "output_type": "execute_result",
          "data": {
            "text/plain": [
              "(tensor([[[0.0196, 0.5683, 0.3819],\n",
              "          [0.3853, 0.0862, 0.2745]],\n",
              " \n",
              "         [[0.9208, 0.4290, 0.5979],\n",
              "          [0.7779, 0.2534, 0.9201]]]),\n",
              " torch.Size([2, 2, 3]))"
            ]
          },
          "metadata": {},
          "execution_count": 43
        }
      ]
    },
    {
      "cell_type": "code",
      "source": [
        "x_squeeze1 = x_squeeze.unsqueeze(dim=2)\n",
        "x_squeeze1, x_squeeze1.shape"
      ],
      "metadata": {
        "colab": {
          "base_uri": "https://localhost:8080/"
        },
        "id": "cY7VBdTRW2ot",
        "outputId": "4bc5c5ce-ff1b-4f5f-a0fd-871abc9edba4"
      },
      "execution_count": 54,
      "outputs": [
        {
          "output_type": "execute_result",
          "data": {
            "text/plain": [
              "(tensor([[[[0.0196, 0.5683, 0.3819]],\n",
              " \n",
              "          [[0.3853, 0.0862, 0.2745]]],\n",
              " \n",
              " \n",
              "         [[[0.9208, 0.4290, 0.5979]],\n",
              " \n",
              "          [[0.7779, 0.2534, 0.9201]]]]),\n",
              " torch.Size([2, 2, 1, 3]))"
            ]
          },
          "metadata": {},
          "execution_count": 54
        }
      ]
    },
    {
      "cell_type": "code",
      "source": [
        "x = torch.randn(2, 3, 5)\n",
        "x, x.shape"
      ],
      "metadata": {
        "colab": {
          "base_uri": "https://localhost:8080/"
        },
        "id": "yYz8wqznXQLs",
        "outputId": "8a6156c6-1939-4315-e9c8-4187cb54d909"
      },
      "execution_count": 57,
      "outputs": [
        {
          "output_type": "execute_result",
          "data": {
            "text/plain": [
              "(tensor([[[ 0.6419,  0.7344,  0.3451, -0.2061, -0.1311],\n",
              "          [-0.1666,  1.7670, -0.5733, -0.0704, -0.1852],\n",
              "          [ 0.8937,  0.8323,  2.2911,  0.4659, -1.3546]],\n",
              " \n",
              "         [[ 0.9821, -0.2659, -1.4232, -1.1113,  0.3396],\n",
              "          [ 0.4574, -1.2466, -0.9371, -1.5612,  0.6872],\n",
              "          [-2.1168,  2.0703, -1.1010, -0.7693, -0.5936]]]),\n",
              " torch.Size([2, 3, 5]))"
            ]
          },
          "metadata": {},
          "execution_count": 57
        }
      ]
    },
    {
      "cell_type": "code",
      "source": [
        "x_permuted = x.permute(2, 0, 1)\n",
        "x_permuted, x_permuted.shape"
      ],
      "metadata": {
        "colab": {
          "base_uri": "https://localhost:8080/"
        },
        "id": "WDVouoLpZsWd",
        "outputId": "67c224e7-872c-4071-bc67-18bd33356711"
      },
      "execution_count": 58,
      "outputs": [
        {
          "output_type": "execute_result",
          "data": {
            "text/plain": [
              "(tensor([[[ 0.6419, -0.1666,  0.8937],\n",
              "          [ 0.9821,  0.4574, -2.1168]],\n",
              " \n",
              "         [[ 0.7344,  1.7670,  0.8323],\n",
              "          [-0.2659, -1.2466,  2.0703]],\n",
              " \n",
              "         [[ 0.3451, -0.5733,  2.2911],\n",
              "          [-1.4232, -0.9371, -1.1010]],\n",
              " \n",
              "         [[-0.2061, -0.0704,  0.4659],\n",
              "          [-1.1113, -1.5612, -0.7693]],\n",
              " \n",
              "         [[-0.1311, -0.1852, -1.3546],\n",
              "          [ 0.3396,  0.6872, -0.5936]]]),\n",
              " torch.Size([5, 2, 3]))"
            ]
          },
          "metadata": {},
          "execution_count": 58
        }
      ]
    },
    {
      "cell_type": "code",
      "source": [],
      "metadata": {
        "id": "Q26aqc5XZ844"
      },
      "execution_count": null,
      "outputs": []
    }
  ]
}